{
 "cells": [
  {
   "cell_type": "code",
   "execution_count": 1,
   "metadata": {},
   "outputs": [
    {
     "name": "stdout",
     "output_type": "stream",
     "text": [
      "Collecting datasets\n",
      "  Downloading datasets-4.0.0-py3-none-any.whl.metadata (19 kB)\n",
      "Requirement already satisfied: tqdm in /Users/shuyuezhang/opt/anaconda3/envs/test_env/lib/python3.9/site-packages (4.67.1)\n",
      "Requirement already satisfied: filelock in /Users/shuyuezhang/opt/anaconda3/envs/test_env/lib/python3.9/site-packages (from datasets) (3.18.0)\n",
      "Requirement already satisfied: numpy>=1.17 in /Users/shuyuezhang/opt/anaconda3/envs/test_env/lib/python3.9/site-packages (from datasets) (1.23.5)\n",
      "Collecting pyarrow>=15.0.0 (from datasets)\n",
      "  Downloading pyarrow-21.0.0-cp39-cp39-macosx_12_0_x86_64.whl.metadata (3.3 kB)\n",
      "Collecting dill<0.3.9,>=0.3.0 (from datasets)\n",
      "  Downloading dill-0.3.8-py3-none-any.whl.metadata (10 kB)\n",
      "Requirement already satisfied: pandas in /Users/shuyuezhang/opt/anaconda3/envs/test_env/lib/python3.9/site-packages (from datasets) (2.3.0)\n",
      "Requirement already satisfied: requests>=2.32.2 in /Users/shuyuezhang/opt/anaconda3/envs/test_env/lib/python3.9/site-packages (from datasets) (2.32.3)\n",
      "Collecting xxhash (from datasets)\n",
      "  Downloading xxhash-3.5.0-cp39-cp39-macosx_10_9_x86_64.whl.metadata (12 kB)\n",
      "Collecting multiprocess<0.70.17 (from datasets)\n",
      "  Downloading multiprocess-0.70.16-py39-none-any.whl.metadata (7.2 kB)\n",
      "Collecting fsspec<=2025.3.0,>=2023.1.0 (from fsspec[http]<=2025.3.0,>=2023.1.0->datasets)\n",
      "  Downloading fsspec-2025.3.0-py3-none-any.whl.metadata (11 kB)\n",
      "Collecting huggingface-hub>=0.24.0 (from datasets)\n",
      "  Downloading huggingface_hub-0.34.3-py3-none-any.whl.metadata (14 kB)\n",
      "Requirement already satisfied: packaging in /Users/shuyuezhang/opt/anaconda3/envs/test_env/lib/python3.9/site-packages (from datasets) (24.2)\n",
      "Requirement already satisfied: pyyaml>=5.1 in /Users/shuyuezhang/opt/anaconda3/envs/test_env/lib/python3.9/site-packages (from datasets) (6.0.2)\n",
      "Collecting aiohttp!=4.0.0a0,!=4.0.0a1 (from fsspec[http]<=2025.3.0,>=2023.1.0->datasets)\n",
      "  Downloading aiohttp-3.12.15-cp39-cp39-macosx_10_9_x86_64.whl.metadata (7.7 kB)\n",
      "Requirement already satisfied: typing-extensions>=3.7.4.3 in /Users/shuyuezhang/opt/anaconda3/envs/test_env/lib/python3.9/site-packages (from huggingface-hub>=0.24.0->datasets) (4.12.2)\n",
      "Collecting hf-xet<2.0.0,>=1.1.3 (from huggingface-hub>=0.24.0->datasets)\n",
      "  Downloading hf_xet-1.1.7-cp37-abi3-macosx_10_12_x86_64.whl.metadata (703 bytes)\n",
      "Requirement already satisfied: charset_normalizer<4,>=2 in /Users/shuyuezhang/opt/anaconda3/envs/test_env/lib/python3.9/site-packages (from requests>=2.32.2->datasets) (3.4.1)\n",
      "Requirement already satisfied: idna<4,>=2.5 in /Users/shuyuezhang/opt/anaconda3/envs/test_env/lib/python3.9/site-packages (from requests>=2.32.2->datasets) (3.10)\n",
      "Requirement already satisfied: urllib3<3,>=1.21.1 in /Users/shuyuezhang/opt/anaconda3/envs/test_env/lib/python3.9/site-packages (from requests>=2.32.2->datasets) (2.3.0)\n",
      "Requirement already satisfied: certifi>=2017.4.17 in /Users/shuyuezhang/opt/anaconda3/envs/test_env/lib/python3.9/site-packages (from requests>=2.32.2->datasets) (2025.1.31)\n",
      "Requirement already satisfied: python-dateutil>=2.8.2 in /Users/shuyuezhang/opt/anaconda3/envs/test_env/lib/python3.9/site-packages (from pandas->datasets) (2.9.0.post0)\n",
      "Requirement already satisfied: pytz>=2020.1 in /Users/shuyuezhang/opt/anaconda3/envs/test_env/lib/python3.9/site-packages (from pandas->datasets) (2025.2)\n",
      "Requirement already satisfied: tzdata>=2022.7 in /Users/shuyuezhang/opt/anaconda3/envs/test_env/lib/python3.9/site-packages (from pandas->datasets) (2025.2)\n",
      "Collecting aiohappyeyeballs>=2.5.0 (from aiohttp!=4.0.0a0,!=4.0.0a1->fsspec[http]<=2025.3.0,>=2023.1.0->datasets)\n",
      "  Downloading aiohappyeyeballs-2.6.1-py3-none-any.whl.metadata (5.9 kB)\n",
      "Collecting aiosignal>=1.4.0 (from aiohttp!=4.0.0a0,!=4.0.0a1->fsspec[http]<=2025.3.0,>=2023.1.0->datasets)\n",
      "  Downloading aiosignal-1.4.0-py3-none-any.whl.metadata (3.7 kB)\n",
      "Collecting async-timeout<6.0,>=4.0 (from aiohttp!=4.0.0a0,!=4.0.0a1->fsspec[http]<=2025.3.0,>=2023.1.0->datasets)\n",
      "  Downloading async_timeout-5.0.1-py3-none-any.whl.metadata (5.1 kB)\n",
      "Requirement already satisfied: attrs>=17.3.0 in /Users/shuyuezhang/opt/anaconda3/envs/test_env/lib/python3.9/site-packages (from aiohttp!=4.0.0a0,!=4.0.0a1->fsspec[http]<=2025.3.0,>=2023.1.0->datasets) (25.3.0)\n",
      "Collecting frozenlist>=1.1.1 (from aiohttp!=4.0.0a0,!=4.0.0a1->fsspec[http]<=2025.3.0,>=2023.1.0->datasets)\n",
      "  Downloading frozenlist-1.7.0-cp39-cp39-macosx_10_9_x86_64.whl.metadata (18 kB)\n",
      "Collecting multidict<7.0,>=4.5 (from aiohttp!=4.0.0a0,!=4.0.0a1->fsspec[http]<=2025.3.0,>=2023.1.0->datasets)\n",
      "  Downloading multidict-6.6.3-cp39-cp39-macosx_10_9_x86_64.whl.metadata (5.3 kB)\n",
      "Collecting propcache>=0.2.0 (from aiohttp!=4.0.0a0,!=4.0.0a1->fsspec[http]<=2025.3.0,>=2023.1.0->datasets)\n",
      "  Downloading propcache-0.3.2-cp39-cp39-macosx_10_9_x86_64.whl.metadata (12 kB)\n",
      "Collecting yarl<2.0,>=1.17.0 (from aiohttp!=4.0.0a0,!=4.0.0a1->fsspec[http]<=2025.3.0,>=2023.1.0->datasets)\n",
      "  Downloading yarl-1.20.1-cp39-cp39-macosx_10_9_x86_64.whl.metadata (73 kB)\n",
      "Requirement already satisfied: six>=1.5 in /Users/shuyuezhang/opt/anaconda3/envs/test_env/lib/python3.9/site-packages (from python-dateutil>=2.8.2->pandas->datasets) (1.17.0)\n",
      "Downloading datasets-4.0.0-py3-none-any.whl (494 kB)\n",
      "Downloading dill-0.3.8-py3-none-any.whl (116 kB)\n",
      "Downloading fsspec-2025.3.0-py3-none-any.whl (193 kB)\n",
      "Downloading huggingface_hub-0.34.3-py3-none-any.whl (558 kB)\n",
      "\u001b[2K   \u001b[90m━━━━━━━━━━━━━━━━━━━━━━━━━━━━━━━━━━━━━━━━\u001b[0m \u001b[32m558.8/558.8 kB\u001b[0m \u001b[31m24.0 MB/s\u001b[0m eta \u001b[36m0:00:00\u001b[0m\n",
      "\u001b[?25hDownloading multiprocess-0.70.16-py39-none-any.whl (133 kB)\n",
      "Downloading pyarrow-21.0.0-cp39-cp39-macosx_12_0_x86_64.whl (32.7 MB)\n",
      "\u001b[2K   \u001b[90m━━━━━━━━━━━━━━━━━━━━━━━━━━━━━━━━━━━━━━━━\u001b[0m \u001b[32m32.7/32.7 MB\u001b[0m \u001b[31m46.1 MB/s\u001b[0m eta \u001b[36m0:00:00\u001b[0ma \u001b[36m0:00:01\u001b[0m\n",
      "\u001b[?25hDownloading xxhash-3.5.0-cp39-cp39-macosx_10_9_x86_64.whl (31 kB)\n",
      "Downloading aiohttp-3.12.15-cp39-cp39-macosx_10_9_x86_64.whl (481 kB)\n",
      "Downloading hf_xet-1.1.7-cp37-abi3-macosx_10_12_x86_64.whl (2.8 MB)\n",
      "\u001b[2K   \u001b[90m━━━━━━━━━━━━━━━━━━━━━━━━━━━━━━━━━━━━━━━━\u001b[0m \u001b[32m2.8/2.8 MB\u001b[0m \u001b[31m42.6 MB/s\u001b[0m eta \u001b[36m0:00:00\u001b[0m\n",
      "\u001b[?25hDownloading aiohappyeyeballs-2.6.1-py3-none-any.whl (15 kB)\n",
      "Downloading aiosignal-1.4.0-py3-none-any.whl (7.5 kB)\n",
      "Downloading async_timeout-5.0.1-py3-none-any.whl (6.2 kB)\n",
      "Downloading frozenlist-1.7.0-cp39-cp39-macosx_10_9_x86_64.whl (48 kB)\n",
      "Downloading multidict-6.6.3-cp39-cp39-macosx_10_9_x86_64.whl (44 kB)\n",
      "Downloading propcache-0.3.2-cp39-cp39-macosx_10_9_x86_64.whl (43 kB)\n",
      "Downloading yarl-1.20.1-cp39-cp39-macosx_10_9_x86_64.whl (91 kB)\n",
      "Installing collected packages: xxhash, pyarrow, propcache, multidict, hf-xet, fsspec, frozenlist, dill, async-timeout, aiohappyeyeballs, yarl, multiprocess, huggingface-hub, aiosignal, aiohttp, datasets\n",
      "Successfully installed aiohappyeyeballs-2.6.1 aiohttp-3.12.15 aiosignal-1.4.0 async-timeout-5.0.1 datasets-4.0.0 dill-0.3.8 frozenlist-1.7.0 fsspec-2025.3.0 hf-xet-1.1.7 huggingface-hub-0.34.3 multidict-6.6.3 multiprocess-0.70.16 propcache-0.3.2 pyarrow-21.0.0 xxhash-3.5.0 yarl-1.20.1\n"
     ]
    }
   ],
   "source": [
    "!pip install datasets tqdm"
   ]
  },
  {
   "cell_type": "code",
   "execution_count": 2,
   "metadata": {},
   "outputs": [
    {
     "name": "stderr",
     "output_type": "stream",
     "text": [
      "/Users/shuyuezhang/opt/anaconda3/envs/test_env/lib/python3.9/site-packages/tqdm/auto.py:21: TqdmWarning: IProgress not found. Please update jupyter and ipywidgets. See https://ipywidgets.readthedocs.io/en/stable/user_install.html\n",
      "  from .autonotebook import tqdm as notebook_tqdm\n"
     ]
    }
   ],
   "source": [
    "from datasets import load_dataset\n",
    "from collections import Counter\n",
    "import pandas as pd\n",
    "import random\n",
    "import re\n",
    "import os"
   ]
  },
  {
   "cell_type": "code",
   "execution_count": 5,
   "metadata": {},
   "outputs": [
    {
     "name": "stderr",
     "output_type": "stream",
     "text": [
      "Generating train split: 100%|██████████| 392702/392702 [00:00<00:00, 1955028.57 examples/s]\n",
      "Generating test split: 100%|██████████| 5010/5010 [00:00<00:00, 1015781.07 examples/s]\n",
      "Generating validation split: 100%|██████████| 2490/2490 [00:00<00:00, 1091079.92 examples/s]\n",
      "Generating train split: 100%|██████████| 392702/392702 [00:00<00:00, 1545292.26 examples/s]\n",
      "Generating test split: 100%|██████████| 5010/5010 [00:00<00:00, 1313177.29 examples/s]\n",
      "Generating validation split: 100%|██████████| 2490/2490 [00:00<00:00, 1027227.01 examples/s]\n",
      "Map: 100%|██████████| 392702/392702 [00:10<00:00, 38213.06 examples/s]\n",
      "Map: 100%|██████████| 392702/392702 [00:11<00:00, 33359.72 examples/s]\n"
     ]
    }
   ],
   "source": [
    "from datasets import load_dataset\n",
    "\n",
    "# 加载英语版本的 XNLI\n",
    "xnli_en = load_dataset(\"xnli\", \"en\")\n",
    "\n",
    "# 加载越南语版本的 XNLI\n",
    "xnli_vi = load_dataset(\"xnli\", \"vi\")\n",
    "\n",
    "# 提取训练集\n",
    "en_train = xnli_en['train']\n",
    "vi_train = xnli_vi['train']\n",
    "\n",
    "# 合并 premise 和 hypothesis\n",
    "def combine_text(example):\n",
    "    return {\n",
    "        \"text\": example[\"premise\"] + \" [SEP] \" + example[\"hypothesis\"],\n",
    "        \"label\": example[\"label\"]\n",
    "    }\n",
    "\n",
    "en_data = en_train.map(combine_text)\n",
    "vi_data = vi_train.map(combine_text)\n",
    "\n",
    "# 转成 pandas DataFrame\n",
    "df_en = pd.DataFrame(en_data)[[\"text\", \"label\"]]\n",
    "df_vi = pd.DataFrame(vi_data)[[\"text\", \"label\"]]"
   ]
  },
  {
   "cell_type": "code",
   "execution_count": 6,
   "metadata": {},
   "outputs": [
    {
     "name": "stdout",
     "output_type": "stream",
     "text": [
      "Collecting tokenizers\n",
      "  Downloading tokenizers-0.21.4-cp39-abi3-macosx_10_12_x86_64.whl.metadata (6.7 kB)\n",
      "Requirement already satisfied: huggingface-hub<1.0,>=0.16.4 in /Users/shuyuezhang/opt/anaconda3/envs/test_env/lib/python3.9/site-packages (from tokenizers) (0.34.3)\n",
      "Requirement already satisfied: filelock in /Users/shuyuezhang/opt/anaconda3/envs/test_env/lib/python3.9/site-packages (from huggingface-hub<1.0,>=0.16.4->tokenizers) (3.18.0)\n",
      "Requirement already satisfied: fsspec>=2023.5.0 in /Users/shuyuezhang/opt/anaconda3/envs/test_env/lib/python3.9/site-packages (from huggingface-hub<1.0,>=0.16.4->tokenizers) (2025.3.0)\n",
      "Requirement already satisfied: packaging>=20.9 in /Users/shuyuezhang/opt/anaconda3/envs/test_env/lib/python3.9/site-packages (from huggingface-hub<1.0,>=0.16.4->tokenizers) (24.2)\n",
      "Requirement already satisfied: pyyaml>=5.1 in /Users/shuyuezhang/opt/anaconda3/envs/test_env/lib/python3.9/site-packages (from huggingface-hub<1.0,>=0.16.4->tokenizers) (6.0.2)\n",
      "Requirement already satisfied: requests in /Users/shuyuezhang/opt/anaconda3/envs/test_env/lib/python3.9/site-packages (from huggingface-hub<1.0,>=0.16.4->tokenizers) (2.32.3)\n",
      "Requirement already satisfied: tqdm>=4.42.1 in /Users/shuyuezhang/opt/anaconda3/envs/test_env/lib/python3.9/site-packages (from huggingface-hub<1.0,>=0.16.4->tokenizers) (4.67.1)\n",
      "Requirement already satisfied: typing-extensions>=3.7.4.3 in /Users/shuyuezhang/opt/anaconda3/envs/test_env/lib/python3.9/site-packages (from huggingface-hub<1.0,>=0.16.4->tokenizers) (4.12.2)\n",
      "Requirement already satisfied: hf-xet<2.0.0,>=1.1.3 in /Users/shuyuezhang/opt/anaconda3/envs/test_env/lib/python3.9/site-packages (from huggingface-hub<1.0,>=0.16.4->tokenizers) (1.1.7)\n",
      "Requirement already satisfied: charset_normalizer<4,>=2 in /Users/shuyuezhang/opt/anaconda3/envs/test_env/lib/python3.9/site-packages (from requests->huggingface-hub<1.0,>=0.16.4->tokenizers) (3.4.1)\n",
      "Requirement already satisfied: idna<4,>=2.5 in /Users/shuyuezhang/opt/anaconda3/envs/test_env/lib/python3.9/site-packages (from requests->huggingface-hub<1.0,>=0.16.4->tokenizers) (3.10)\n",
      "Requirement already satisfied: urllib3<3,>=1.21.1 in /Users/shuyuezhang/opt/anaconda3/envs/test_env/lib/python3.9/site-packages (from requests->huggingface-hub<1.0,>=0.16.4->tokenizers) (2.3.0)\n",
      "Requirement already satisfied: certifi>=2017.4.17 in /Users/shuyuezhang/opt/anaconda3/envs/test_env/lib/python3.9/site-packages (from requests->huggingface-hub<1.0,>=0.16.4->tokenizers) (2025.1.31)\n",
      "Downloading tokenizers-0.21.4-cp39-abi3-macosx_10_12_x86_64.whl (2.9 MB)\n",
      "\u001b[2K   \u001b[90m━━━━━━━━━━━━━━━━━━━━━━━━━━━━━━━━━━━━━━━━\u001b[0m \u001b[32m2.9/2.9 MB\u001b[0m \u001b[31m32.8 MB/s\u001b[0m eta \u001b[36m0:00:00\u001b[0m\n",
      "\u001b[?25hInstalling collected packages: tokenizers\n",
      "Successfully installed tokenizers-0.21.4\n"
     ]
    }
   ],
   "source": [
    "!pip install tokenizers"
   ]
  },
  {
   "cell_type": "markdown",
   "metadata": {},
   "source": [
    "# BPE"
   ]
  },
  {
   "cell_type": "code",
   "execution_count": 7,
   "metadata": {},
   "outputs": [
    {
     "name": "stdout",
     "output_type": "stream",
     "text": [
      "\n",
      "\n",
      "\n"
     ]
    }
   ],
   "source": [
    "from tokenizers import Tokenizer\n",
    "from tokenizers.models import BPE\n",
    "from tokenizers.trainers import BpeTrainer\n",
    "from tokenizers.pre_tokenizers import Whitespace\n",
    "from tokenizers.normalizers import Lowercase, NFD, StripAccents, Sequence as NormalizerSequence\n",
    "from tokenizers.processors import TemplateProcessing\n",
    "from tokenizers import normalizers\n",
    "\n",
    "# 准备训练语料：保存到 txt 文件\n",
    "with open(\"bpe_en.txt\", \"w\", encoding=\"utf-8\") as f:\n",
    "    for line in df_en[\"text\"]:\n",
    "        f.write(line + \"\\n\")\n",
    "\n",
    "# 初始化空 tokenizer\n",
    "tokenizer = Tokenizer(BPE())\n",
    "\n",
    "# 添加预处理（比如小写 + 去除重音）\n",
    "tokenizer.normalizer = NormalizerSequence([NFD(), Lowercase(), StripAccents()])\n",
    "\n",
    "# 添加空格分词器\n",
    "tokenizer.pre_tokenizer = Whitespace()\n",
    "\n",
    "# 训练器：设置 vocab size\n",
    "trainer = BpeTrainer(vocab_size=10000, special_tokens=[\"[PAD]\", \"[UNK]\", \"[CLS]\", \"[SEP]\", \"[MASK]\"])\n",
    "\n",
    "# 训练\n",
    "tokenizer.train([\"bpe_en.txt\"], trainer)\n",
    "\n",
    "# 保存 tokenizer\n",
    "tokenizer.save(\"bpe_tokenizer_en.json\")\n"
   ]
  },
  {
   "cell_type": "code",
   "execution_count": 8,
   "metadata": {},
   "outputs": [],
   "source": [
    "# 加载分词器并准备 Counter\n",
    "from tokenizers import Tokenizer\n",
    "from collections import Counter\n",
    "\n",
    "# 加载训练好的 BPE 分词器\n",
    "tokenizer = Tokenizer.from_file(\"bpe_tokenizer_en.json\")\n",
    "\n",
    "# 分词 + 统计词频\n",
    "token_counts = Counter()\n",
    "\n",
    "for line in df_en[\"text\"]:\n",
    "    encoding = tokenizer.encode(line)\n",
    "    tokens = encoding.tokens\n",
    "    token_counts.update(tokens)\n",
    "\n",
    "# 排序\n",
    "sorted_tokens = token_counts.most_common()"
   ]
  },
  {
   "cell_type": "code",
   "execution_count": 10,
   "metadata": {},
   "outputs": [
    {
     "data": {
      "image/png": "[encoded data removed]",
      "text/plain": [
       "<Figure size 800x500 with 1 Axes>"
      ]
     },
     "metadata": {},
     "output_type": "display_data"
    }
   ],
   "source": [
    "# 画 Zipf 曲线\n",
    "import matplotlib.pyplot as plt\n",
    "\n",
    "# 准备 rank & freq\n",
    "ranks = list(range(1, len(sorted_tokens) + 1))\n",
    "frequencies = [freq for _, freq in sorted_tokens]\n",
    "\n",
    "# 绘图\n",
    "plt.figure(figsize=(8, 5))\n",
    "plt.loglog(ranks, frequencies)\n",
    "plt.xlabel(\"Rank\")\n",
    "plt.ylabel(\"Frequency\")\n",
    "plt.title(\"Zipf Curve - BPE Tokenizer (English)\")\n",
    "plt.grid(True)\n",
    "plt.show()"
   ]
  },
  {
   "cell_type": "code",
   "execution_count": 11,
   "metadata": {},
   "outputs": [],
   "source": [
    "# BPE 分词器加载 & 分词生成 tokens_str\n",
    "from tokenizers import Tokenizer\n",
    "tokenizer = Tokenizer.from_file(\"bpe_tokenizer_en.json\")\n",
    "\n",
    "# 把每行 text 分词后转成字符串\n",
    "def tokenize_to_str(text):\n",
    "    return \" \".join(tokenizer.encode(text).tokens)\n",
    "\n",
    "df_en[\"tokens_str\"] = df_en[\"text\"].apply(tokenize_to_str)"
   ]
  },
  {
   "cell_type": "code",
   "execution_count": 12,
   "metadata": {},
   "outputs": [],
   "source": [
    "#构建 TF-IDF 特征矩阵\n",
    "from sklearn.feature_extraction.text import TfidfVectorizer\n",
    "\n",
    "vectorizer = TfidfVectorizer()\n",
    "X = vectorizer.fit_transform(df_en[\"tokens_str\"])\n",
    "y = df_en[\"label\"]"
   ]
  },
  {
   "cell_type": "code",
   "execution_count": 13,
   "metadata": {},
   "outputs": [],
   "source": [
    "def tokenize_with_method(df, tokenizer_obj, method_name):\n",
    "    \"\"\"\n",
    "    使用给定分词器(HuggingFace Tokenizer 对象)对 df[\"text\"] 分词，生成 tokens_str 列。\n",
    "    method_name: 用于保存图或输出时标记分词方法\n",
    "    \"\"\"\n",
    "    df_copy = df.copy()\n",
    "    df_copy[f\"tokens_str_{method_name}\"] = df_copy[\"text\"].apply(\n",
    "        lambda x: \" \".join(tokenizer_obj.encode(x).tokens)\n",
    "    )\n",
    "    return df_copy\n"
   ]
  }
 ],
 "metadata": {
  "kernelspec": {
   "display_name": "test_env",
   "language": "python",
   "name": "python3"
  },
  "language_info": {
   "codemirror_mode": {
    "name": "ipython",
    "version": 3
   },
   "file_extension": ".py",
   "mimetype": "text/x-python",
   "name": "python",
   "nbconvert_exporter": "python",
   "pygments_lexer": "ipython3",
   "version": "3.9.21"
  }
 },
 "nbformat": 4,
 "nbformat_minor": 2
}
